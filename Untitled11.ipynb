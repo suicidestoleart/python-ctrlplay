{
 "cells": [
  {
   "cell_type": "code",
   "execution_count": 2,
   "id": "7e1d6136",
   "metadata": {
    "scrolled": true
   },
   "outputs": [
    {
     "name": "stdout",
     "output_type": "stream",
     "text": [
      "Digite seu CEP: 123456\n",
      "Seu endereço é:  manteiga\n"
     ]
    }
   ],
   "source": [
    "endereco = {'40028922': \"rua do pao de queijo\", '123456': 'manteiga'}\n",
    "\n",
    "\n",
    "CEP = input(\"Digite seu CEP: \")\n",
    "print(\"Seu endereço é: \" ,endereco[CEP])"
   ]
  },
  {
   "cell_type": "code",
   "execution_count": 6,
   "id": "2903a019",
   "metadata": {},
   "outputs": [
    {
     "name": "stdout",
     "output_type": "stream",
     "text": [
      "lista:  [1, 3, 2, 3, 4, 5, 1, 5, 7, 6, 8, 3, 4]\n",
      "conjunto:  {1, 2, 3, 4, 5, 6, 7, 8}\n"
     ]
    }
   ],
   "source": [
    "lista = [1,3,2,3,4,5,1,5,7,6,8,3,4]\n",
    "conjunto = set()\n",
    "for numero in lista:\n",
    "    conjunto.add(numero)\n",
    "\n",
    "print(\"lista: \", lista)\n",
    "print(\"conjunto: \", conjunto)"
   ]
  },
  {
   "cell_type": "code",
   "execution_count": 1,
   "id": "ea42623c",
   "metadata": {},
   "outputs": [
    {
     "name": "stdout",
     "output_type": "stream",
     "text": [
      "lista:  [1, 3, 2, 3, 4, 5, 1, 5, 7, 6, 8, 3, 4]\n",
      "lista 2 :  [1, 3, 2, 4, 5, 7, 6, 8]\n"
     ]
    }
   ],
   "source": [
    "lista = [1,3,2,3,4,5,1,5,7,6,8,3,4]\n",
    "lista2 = []\n",
    "for numero in lista:\n",
    "    if numero not in lista2:\n",
    "         lista2.append(numero)\n",
    "\n",
    "print(\"lista: \", lista)\n",
    "print(\"lista 2 : \", lista2)"
   ]
  },
  {
   "cell_type": "code",
   "execution_count": 5,
   "id": "505de28a",
   "metadata": {},
   "outputs": [
    {
     "name": "stdout",
     "output_type": "stream",
     "text": [
      "Digite seu DDD: 45\n",
      "DDD nao cadastrado\n"
     ]
    }
   ],
   "source": [
    "cidade = {'61': \"Brasilia\", '71': 'salvador', \"11\": \"Sao Paulo\", \"21\": \"Rio De Janeiro\", \"32\": \"Juiz De Fora\", \"19\": \"Campinas\", \"27\": \"Vitoria\", \"31\": \"Belo Horizonte\"}\n",
    "\n",
    "DDD = input(\"Digite seu DDD: \")\n",
    "if DDD not in cidade:\n",
    "    print(\"DDD nao cadastrado\")\n",
    "else: \n",
    "    print(\"A cidade que corresponde a esse DDD é: \" ,cidade[DDD])"
   ]
  },
  {
   "cell_type": "code",
   "execution_count": null,
   "id": "736a7918",
   "metadata": {},
   "outputs": [],
   "source": []
  },
  {
   "cell_type": "code",
   "execution_count": null,
   "id": "4df841a4",
   "metadata": {},
   "outputs": [],
   "source": []
  },
  {
   "cell_type": "code",
   "execution_count": null,
   "id": "3baa806f",
   "metadata": {},
   "outputs": [],
   "source": []
  }
 ],
 "metadata": {
  "kernelspec": {
   "display_name": "Python 3",
   "language": "python",
   "name": "python3"
  }
 },
 "nbformat": 4,
 "nbformat_minor": 5
}
