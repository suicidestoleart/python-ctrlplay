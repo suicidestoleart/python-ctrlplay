{
 "cells": [
  {
   "cell_type": "code",
   "execution_count": 11,
   "id": "354b4531",
   "metadata": {
    "scrolled": true
   },
   "outputs": [
    {
     "name": "stdout",
     "output_type": "stream",
     "text": [
      "pipoca de alho\n"
     ]
    }
   ],
   "source": [
    "nota = 4\n",
    "if nota > 6:\n",
    "    print(\"tapioca de alho\")\n",
    "elif nota >= 4:\n",
    "    print(\"pipoca de alho\")\n",
    "else: \n",
    "    print(\"tapioca de alho eh uma delicia\")"
   ]
  },
  {
   "cell_type": "code",
   "execution_count": null,
   "id": "0fb678ca",
   "metadata": {},
   "outputs": [],
   "source": [
    "idade = input (\"Insira aqui sua idade\")\n",
    "if idade <4 or idade >60: \n",
    "    print(\"Sua entrada é  gratuita\")"
   ]
  },
  {
   "cell_type": "code",
   "execution_count": 2,
   "id": "9f7fb6a4",
   "metadata": {},
   "outputs": [
    {
     "name": "stdout",
     "output_type": "stream",
     "text": [
      "Insira aqui sua idade: 18\n",
      "A entrada custa 30,00. \n"
     ]
    }
   ],
   "source": [
    "idade = input (\"Insira aqui sua idade: \")\n",
    "idade = int (idade)\n",
    "\n",
    "valor = 0\n",
    "\n",
    "if idade <= 4 or idade >= 60:\n",
    "    print (\"Entrada gratuita.\")\n",
    "elif idade < 18:\n",
    "    print(\"A entrada custa R$30,00.\")\n",
    "else:\n",
    "    print(\"A entrada custa 30,00. \")"
   ]
  },
  {
   "cell_type": "code",
   "execution_count": null,
   "id": "a87136ca",
   "metadata": {},
   "outputs": [],
   "source": []
  },
  {
   "cell_type": "code",
   "execution_count": 2,
   "id": "2f722dbc",
   "metadata": {
    "scrolled": false
   },
   "outputs": [
    {
     "name": "stdout",
     "output_type": "stream",
     "text": [
      "Insira aqui sua idade: 20\n",
      "Voce é estudante ou professor?/nR: sim\n",
      "O valor do ingresso é R$ 15.0\n"
     ]
    }
   ],
   "source": [
    "idade = input(\"Insira aqui sua idade: \")\n",
    "idade = int(idade)\n",
    "\n",
    "valor = 0\n",
    "\n",
    "if idade < 4 or idade > 60:\n",
    "    valor = 0\n",
    "elif idade < 18:\n",
    "    valor = 20\n",
    "else:\n",
    "    valor = 30\n",
    "    \n",
    "resposta = input(\"Voce é estudante ou professor?/nR: \")\n",
    "if resposta == \"sim\":\n",
    "    valor = valor/2\n",
    "if valor != 0:\n",
    "    print(\"O valor do ingresso é R$\", valor)\n",
    "else:\n",
    "    print (\"Entrada Gratuita\")"
   ]
  },
  {
   "cell_type": "code",
   "execution_count": null,
   "id": "897a1601",
   "metadata": {},
   "outputs": [],
   "source": []
  }
 ],
 "metadata": {
  "kernelspec": {
   "display_name": "Python 3",
   "language": "python",
   "name": "python3"
  }
 },
 "nbformat": 4,
 "nbformat_minor": 5
}
