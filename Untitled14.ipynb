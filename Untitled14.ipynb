{
 "cells": [
  {
   "cell_type": "code",
   "execution_count": null,
   "id": "9eb615a3",
   "metadata": {},
   "outputs": [],
   "source": [
    "notaP = input(\"Insira aqui sua nota: \")"
   ]
  },
  {
   "cell_type": "code",
   "execution_count": null,
   "id": "b8009fab",
   "metadata": {},
   "outputs": [],
   "source": [
    "%%writefile notas.txt\n"
   ]
  },
  {
   "cell_type": "code",
   "execution_count": 9,
   "id": "5cfda00d",
   "metadata": {},
   "outputs": [
    {
     "data": {
      "text/plain": [
       "'nota do usuario\\n'"
      ]
     },
     "execution_count": 9,
     "metadata": {},
     "output_type": "execute_result"
    }
   ],
   "source": []
  },
  {
   "cell_type": "code",
   "execution_count": null,
   "id": "c60e65aa",
   "metadata": {},
   "outputs": [],
   "source": []
  }
 ],
 "metadata": {
  "kernelspec": {
   "display_name": "Python 3",
   "language": "python",
   "name": "python3"
  },
  "language_info": {
   "codemirror_mode": {
    "name": "ipython",
    "version": 3
   },
   "file_extension": ".py",
   "mimetype": "text/x-python",
   "name": "python",
   "nbconvert_exporter": "python",
   "pygments_lexer": "ipython3",
   "version": "3.8.8"
  }
 },
 "nbformat": 4,
 "nbformat_minor": 5
}
