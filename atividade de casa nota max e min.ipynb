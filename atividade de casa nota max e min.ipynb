{
 "cells": [
  {
   "cell_type": "code",
   "execution_count": 2,
   "id": "d1732519",
   "metadata": {},
   "outputs": [
    {
     "name": "stdout",
     "output_type": "stream",
     "text": [
      "Overwriting notas.txt\n"
     ]
    }
   ],
   "source": [
    "%%writefile notas.txt\n",
    " "
   ]
  },
  {
   "cell_type": "code",
   "execution_count": 1,
   "id": "832026e6",
   "metadata": {
    "scrolled": true
   },
   "outputs": [
    {
     "name": "stdout",
     "output_type": "stream",
     "text": [
      "Escreva aqui sua notas: 5, 10, 53347, -64, 3\n",
      "maior nota: 53347\n",
      "menor nota: -64\n"
     ]
    }
   ],
   "source": [
    "\n",
    "with open(\"notas.txt\", \"a\") as listaNotas: #abrir arquivo\n",
    "    notas1 = input(\"Escreva aqui sua notas: \") #coletar as notas \n",
    "notas1 = notas1.split(\",\") #cortar as notas\n",
    "i=0 #declarando variavel contador\n",
    "for x in notas1: #percorrendo a variavel notas\n",
    "    notas1[i] = int(x) #alocando as variaveis em notas\n",
    "    i+=1 #adicionando +1\n",
    "print (\"maior nota:\", max(notas1)) #mostrar e \"calcular\" maior nota\n",
    "print (\"menor nota:\", min(notas1)) #mostrar e \"calcular\" menor nota"
   ]
  },
  {
   "cell_type": "code",
   "execution_count": 4,
   "id": "98734c26",
   "metadata": {},
   "outputs": [
    {
     "name": "stdout",
     "output_type": "stream",
     "text": [
      "Escreva aqui sua notas: 5, 7, 10\n"
     ]
    },
    {
     "ename": "ValueError",
     "evalue": "invalid literal for int() with base 10: '5/n'",
     "output_type": "error",
     "traceback": [
      "\u001b[1;31m---------------------------------------------------------------------------\u001b[0m",
      "\u001b[1;31mValueError\u001b[0m                                Traceback (most recent call last)",
      "\u001b[1;32m<ipython-input-4-6a2d456723cf>\u001b[0m in \u001b[0;36m<module>\u001b[1;34m\u001b[0m\n\u001b[0;32m     17\u001b[0m \u001b[1;33m\u001b[0m\u001b[0m\n\u001b[0;32m     18\u001b[0m \u001b[1;32mfor\u001b[0m \u001b[0mitem\u001b[0m \u001b[1;32min\u001b[0m \u001b[0mnotas\u001b[0m\u001b[1;33m:\u001b[0m\u001b[1;33m\u001b[0m\u001b[1;33m\u001b[0m\u001b[0m\n\u001b[1;32m---> 19\u001b[1;33m     \u001b[0mlista\u001b[0m\u001b[1;33m.\u001b[0m\u001b[0mappend\u001b[0m\u001b[1;33m(\u001b[0m\u001b[0mint\u001b[0m\u001b[1;33m(\u001b[0m\u001b[0mitem\u001b[0m\u001b[1;33m)\u001b[0m\u001b[1;33m)\u001b[0m\u001b[1;33m\u001b[0m\u001b[1;33m\u001b[0m\u001b[0m\n\u001b[0m\u001b[0;32m     20\u001b[0m \u001b[1;33m\u001b[0m\u001b[0m\n\u001b[0;32m     21\u001b[0m \u001b[0mprint\u001b[0m \u001b[1;33m(\u001b[0m\u001b[1;34m\"maior nota:\"\u001b[0m\u001b[1;33m,\u001b[0m \u001b[0mmax\u001b[0m\u001b[1;33m(\u001b[0m\u001b[0mlista\u001b[0m\u001b[1;33m)\u001b[0m\u001b[1;33m)\u001b[0m\u001b[1;33m\u001b[0m\u001b[1;33m\u001b[0m\u001b[0m\n",
      "\u001b[1;31mValueError\u001b[0m: invalid literal for int() with base 10: '5/n'"
     ]
    }
   ],
   "source": [
    "with open(\"Notas.txt\", \"a\") as listaNotas:\n",
    "    \n",
    "    notas = input(\"Escreva aqui sua notas: \") #coletar as notas \n",
    "    notas = notas.split(\",\") #cortar as notas\n",
    "\n",
    "    for nota in notas:\n",
    "        listaNotas.write(nota)\n",
    "        listaNotas.write(\"/n\")\n",
    "        \n",
    "    listaNotas.close()\n",
    "    \n",
    "with open(\"Notas.txt\") as listaNotas:\n",
    "    notas = listaNotas.read().split()\n",
    "    listaNotas.close()\n",
    "    \n",
    "lista = []\n",
    "\n",
    "for item in notas:\n",
    "    lista.append(int(item))\n",
    "    \n",
    "print (\"maior nota:\", max(lista)) \n",
    "print (\"menor nota:\", min(lisa))"
   ]
  },
  {
   "cell_type": "code",
   "execution_count": 9,
   "id": "c619242e",
   "metadata": {},
   "outputs": [
    {
     "ename": "SyntaxError",
     "evalue": "unexpected EOF while parsing (<ipython-input-9-6b14f756c02e>, line 1)",
     "output_type": "error",
     "traceback": [
      "\u001b[1;36m  File \u001b[1;32m\"<ipython-input-9-6b14f756c02e>\"\u001b[1;36m, line \u001b[1;32m1\u001b[0m\n\u001b[1;33m    with open(\"notas.txt\", \"a\") as listaNotas:\u001b[0m\n\u001b[1;37m                                              ^\u001b[0m\n\u001b[1;31mSyntaxError\u001b[0m\u001b[1;31m:\u001b[0m unexpected EOF while parsing\n"
     ]
    }
   ],
   "source": []
  },
  {
   "cell_type": "code",
   "execution_count": null,
   "id": "69cfc6a7",
   "metadata": {
    "scrolled": true
   },
   "outputs": [],
   "source": [
    "\n",
    "input(\"Escreva aqui sua notas: \")\n",
    "print (\"maior nota:\", max(notas1))"
   ]
  },
  {
   "cell_type": "code",
   "execution_count": 8,
   "id": "772280cc",
   "metadata": {},
   "outputs": [
    {
     "name": "stdout",
     "output_type": "stream",
     "text": [
      "8\n"
     ]
    }
   ],
   "source": []
  },
  {
   "cell_type": "code",
   "execution_count": 3,
   "id": "276f4313",
   "metadata": {},
   "outputs": [
    {
     "ename": "SyntaxError",
     "evalue": "Missing parentheses in call to 'print'. Did you mean print(i, end=\" \")? (<ipython-input-3-36093fa6dcdf>, line 8)",
     "output_type": "error",
     "traceback": [
      "\u001b[1;36m  File \u001b[1;32m\"<ipython-input-3-36093fa6dcdf>\"\u001b[1;36m, line \u001b[1;32m8\u001b[0m\n\u001b[1;33m    print i,\u001b[0m\n\u001b[1;37m          ^\u001b[0m\n\u001b[1;31mSyntaxError\u001b[0m\u001b[1;31m:\u001b[0m Missing parentheses in call to 'print'. Did you mean print(i, end=\" \")?\n"
     ]
    }
   ],
   "source": []
  },
  {
   "cell_type": "code",
   "execution_count": null,
   "id": "c4b9791c",
   "metadata": {},
   "outputs": [],
   "source": []
  },
  {
   "cell_type": "code",
   "execution_count": null,
   "id": "5dd6aea6",
   "metadata": {},
   "outputs": [],
   "source": []
  }
 ],
 "metadata": {
  "kernelspec": {
   "display_name": "Python 3",
   "language": "python",
   "name": "python3"
  },
  "language_info": {
   "codemirror_mode": {
    "name": "ipython",
    "version": 3
   },
   "file_extension": ".py",
   "mimetype": "text/x-python",
   "name": "python",
   "nbconvert_exporter": "python",
   "pygments_lexer": "ipython3",
   "version": "3.8.8"
  }
 },
 "nbformat": 4,
 "nbformat_minor": 5
}
