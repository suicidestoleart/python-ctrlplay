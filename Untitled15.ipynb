{
 "cells": [
  {
   "cell_type": "code",
   "execution_count": 4,
   "id": "debc9cc5",
   "metadata": {},
   "outputs": [
    {
     "name": "stdout",
     "output_type": "stream",
     "text": [
      "Overwriting notas.txt\n"
     ]
    }
   ],
   "source": [
    "%%writefile notas.txt\n",
    " "
   ]
  },
  {
   "cell_type": "code",
   "execution_count": null,
   "id": "188b8320",
   "metadata": {},
   "outputs": [],
   "source": [
    "notasP = input(\"Insira aqui suas notas: \")\n",
    "with open(\"notas.txt\", \"a\")"
   ]
  },
  {
   "cell_type": "code",
   "execution_count": null,
   "id": "b25b6f21",
   "metadata": {},
   "outputs": [],
   "source": [
    "print \"max(19, 54, 100, -64) : \""
   ]
  },
  {
   "cell_type": "code",
   "execution_count": null,
   "id": "b04d079c",
   "metadata": {},
   "outputs": [],
   "source": []
  }
 ],
 "metadata": {
  "kernelspec": {
   "display_name": "Python 3",
   "language": "python",
   "name": "python3"
  },
  "language_info": {
   "codemirror_mode": {
    "name": "ipython",
    "version": 3
   },
   "file_extension": ".py",
   "mimetype": "text/x-python",
   "name": "python",
   "nbconvert_exporter": "python",
   "pygments_lexer": "ipython3",
   "version": "3.8.8"
  }
 },
 "nbformat": 4,
 "nbformat_minor": 5
}
