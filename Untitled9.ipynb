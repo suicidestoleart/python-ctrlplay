{
 "cells": [
  {
   "cell_type": "code",
   "execution_count": 10,
   "id": "32ae5283",
   "metadata": {},
   "outputs": [
    {
     "name": "stdout",
     "output_type": "stream",
     "text": [
      "Digite o numero equivalente ao mes que você quer:8\n",
      "August\n"
     ]
    }
   ],
   "source": [
    "months = ('January', 'February', 'March', 'April', 'May', 'June ', 'July', 'August', 'September', 'October', 'November', 'December')\n",
    "month = int(input (\"Digite o numero equivalente ao mes que você quer:\"))\n",
    "print(months [month-1])\n"
   ]
  },
  {
   "cell_type": "code",
   "execution_count": 11,
   "id": "266f6fe4",
   "metadata": {},
   "outputs": [
    {
     "name": "stdout",
     "output_type": "stream",
     "text": [
      "Digite o numero equivalente ao seu pedido3\n",
      "X-Bacon\n"
     ]
    }
   ],
   "source": [
    "lanches = ['Cachorro quente', 'X-salada', 'X-Bacon', 'Torrada simples', 'Refrigerante']\n",
    "lanche = int(input (\"Digite o numero equivalente ao seu pedido\"))\n",
    "print(lanches [lanche-1])"
   ]
  },
  {
   "cell_type": "code",
   "execution_count": 13,
   "id": "6332c3e8",
   "metadata": {},
   "outputs": [
    {
     "name": "stdout",
     "output_type": "stream",
     "text": [
      "Entre com o código do produto: 4\n",
      "Entre com a quantidade: 7\n",
      "\n",
      "\n",
      "-----------NOTA----------\n",
      "Produto:  Torrada simples \n",
      "Quantidade:  7 \n",
      "Preço: R$ 14\n"
     ]
    }
   ],
   "source": [
    "#Registro dos produtos e preços (ainda não vimos matrizes nem dicionario)\n",
    "produtos = [\"Cachorro Quente\",\"X-Salada\",\"X-Bacon\",\"Torrada simples\",\"Refrigerante\"]\n",
    "precos = [4.00, 4.50,5.00,2,1.50]\n",
    "#Pegando pedido do usuário\n",
    "codigo = int(input(\"Entre com o código do produto: \"))\n",
    "quantidade = int(input(\"Entre com a quantidade: \"))\n",
    "#Calculando valor final\n",
    "valorTotal = precos[codigo-1]*quantidade\n",
    "#Gerando nota\n",
    "print(\"\\n\\n-----------NOTA----------\\nProduto: \",produtos[codigo-1],\"\\nQuantidade: \",quantidade,\"\\nPreço: R$\",valorTotal)"
   ]
  },
  {
   "cell_type": "code",
   "execution_count": null,
   "id": "c1c30546",
   "metadata": {},
   "outputs": [],
   "source": []
  }
 ],
 "metadata": {
  "kernelspec": {
   "display_name": "Python 3",
   "language": "python",
   "name": "python3"
  },
  "language_info": {
   "codemirror_mode": {
    "name": "ipython",
    "version": 3
   },
   "file_extension": ".py",
   "mimetype": "text/x-python",
   "name": "python",
   "nbconvert_exporter": "python",
   "pygments_lexer": "ipython3",
   "version": "3.8.8"
  }
 },
 "nbformat": 4,
 "nbformat_minor": 5
}
