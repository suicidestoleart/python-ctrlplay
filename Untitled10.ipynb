{
 "cells": [
  {
   "cell_type": "code",
   "execution_count": 1,
   "id": "257fbad0",
   "metadata": {},
   "outputs": [
    {
     "name": "stdout",
     "output_type": "stream",
     "text": [
      "buscando...\n",
      "buscando...\n",
      "buscando...\n",
      "buscando...\n",
      "buscando...\n",
      "buscando...\n",
      "buscando...\n",
      "buscando...\n",
      "buscando...\n",
      "buscando...\n",
      "buscando...\n",
      "buscando...\n",
      "buscando...\n",
      "buscando...\n",
      "buscando...\n",
      "buscando...\n",
      "buscando...\n",
      "buscando...\n",
      "buscando...\n",
      "buscando...\n",
      "Valor DA SOMA;  315  \n",
      "Interaçoes:  40\n"
     ]
    }
   ],
   "source": [
    "numeros = range(3,1000)\n",
    "soma = 0\n",
    "i = 0\n",
    "while soma < 300:\n",
    "    if numeros [i] %3 == 0:\n",
    "        soma = soma + numeros[i]\n",
    "    elif numeros[i]%5 ==0:\n",
    "        pass\n",
    "    else:\n",
    "        print(\"buscando...\")\n",
    "    i += 1\n",
    "else:\n",
    "    print('Valor DA SOMA; ',soma,\" \\nInteraçoes: \",i)\n",
    "          \n",
    "    "
   ]
  },
  {
   "cell_type": "code",
   "execution_count": null,
   "id": "03fb6671",
   "metadata": {},
   "outputs": [],
   "source": []
  },
  {
   "cell_type": "code",
   "execution_count": null,
   "id": "5d8b458a",
   "metadata": {},
   "outputs": [],
   "source": []
  },
  {
   "cell_type": "code",
   "execution_count": null,
   "id": "dfd1793e",
   "metadata": {},
   "outputs": [],
   "source": []
  },
  {
   "cell_type": "code",
   "execution_count": null,
   "id": "f67c44eb",
   "metadata": {},
   "outputs": [],
   "source": []
  },
  {
   "cell_type": "code",
   "execution_count": null,
   "id": "222fc9ad",
   "metadata": {},
   "outputs": [],
   "source": []
  },
  {
   "cell_type": "code",
   "execution_count": null,
   "id": "ff9f9d16",
   "metadata": {},
   "outputs": [],
   "source": []
  },
  {
   "cell_type": "code",
   "execution_count": null,
   "id": "29c3543b",
   "metadata": {},
   "outputs": [],
   "source": []
  },
  {
   "cell_type": "code",
   "execution_count": null,
   "id": "21af2e92",
   "metadata": {},
   "outputs": [],
   "source": []
  },
  {
   "cell_type": "code",
   "execution_count": null,
   "id": "b0ec6532",
   "metadata": {},
   "outputs": [],
   "source": []
  },
  {
   "cell_type": "code",
   "execution_count": null,
   "id": "afb1d8b8",
   "metadata": {},
   "outputs": [],
   "source": []
  }
 ],
 "metadata": {
  "kernelspec": {
   "display_name": "Python 3",
   "language": "python",
   "name": "python3"
  },
  "language_info": {
   "codemirror_mode": {
    "name": "ipython",
    "version": 3
   },
   "file_extension": ".py",
   "mimetype": "text/x-python",
   "name": "python",
   "nbconvert_exporter": "python",
   "pygments_lexer": "ipython3",
   "version": "3.8.8"
  }
 },
 "nbformat": 4,
 "nbformat_minor": 5
}
