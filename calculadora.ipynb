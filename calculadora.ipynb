{
 "cells": [
  {
   "cell_type": "code",
   "execution_count": null,
   "id": "6df36d77",
   "metadata": {},
   "outputs": [],
   "source": [
    "import math\n",
    "\n",
    "def soma(a,b):\n",
    "    return a+b\n",
    "\n",
    "def subtracao(a,b):\n",
    "    return a-b\n",
    "\n",
    "def vezes(a,b):\n",
    "    return a*b\n",
    "\n",
    "def divisao(a,b):\n",
    "    return a/b\n",
    "\n",
    "def potencia(a,b):\n",
    "     return math.pow(a,b)"
   ]
  }
 ],
 "metadata": {
  "kernelspec": {
   "display_name": "Python 3",
   "language": "python",
   "name": "python3"
  },
  "language_info": {
   "codemirror_mode": {
    "name": "ipython",
    "version": 3
   },
   "file_extension": ".py",
   "mimetype": "text/x-python",
   "name": "python",
   "nbconvert_exporter": "python",
   "pygments_lexer": "ipython3",
   "version": "3.8.8"
  }
 },
 "nbformat": 4,
 "nbformat_minor": 5
}
