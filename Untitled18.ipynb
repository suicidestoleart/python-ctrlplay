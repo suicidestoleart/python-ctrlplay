{
 "cells": [
  {
   "cell_type": "code",
   "execution_count": 1,
   "id": "757c7656",
   "metadata": {},
   "outputs": [
    {
     "name": "stdout",
     "output_type": "stream",
     "text": [
      "A soma é 15\n",
      "A subtraçao é -5\n",
      "A multiplicação é 50\n",
      "A divisao é 0.5\n",
      "A potencia é 9765625.0\n"
     ]
    }
   ],
   "source": [
    "import calculadora\n",
    "\n",
    "print(\"A soma é\", calculadora.soma(5,10))\n",
    "print(\"A subtraçao é\", calculadora.subtracao(5,10))\n",
    "print(\"A multiplicação é\", calculadora.multiplicacao(5,10))\n",
    "print(\"A divisao é\", calculadora.divisao(5,10))\n",
    "print(\"A potencia é\", calculadora.exponenciacao(5,10))"
   ]
  },
  {
   "cell_type": "code",
   "execution_count": null,
   "id": "153e4f6b",
   "metadata": {},
   "outputs": [],
   "source": []
  }
 ],
 "metadata": {
  "kernelspec": {
   "display_name": "Python 3",
   "language": "python",
   "name": "python3"
  },
  "language_info": {
   "codemirror_mode": {
    "name": "ipython",
    "version": 3
   },
   "file_extension": ".py",
   "mimetype": "text/x-python",
   "name": "python",
   "nbconvert_exporter": "python",
   "pygments_lexer": "ipython3",
   "version": "3.8.8"
  }
 },
 "nbformat": 4,
 "nbformat_minor": 5
}
