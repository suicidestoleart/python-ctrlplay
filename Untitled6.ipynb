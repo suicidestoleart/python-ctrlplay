{
 "cells": [
  {
   "cell_type": "code",
   "execution_count": 1,
   "id": "b5e30ddc",
   "metadata": {},
   "outputs": [
    {
     "name": "stdout",
     "output_type": "stream",
     "text": [
      "pinguim daryl\n"
     ]
    }
   ],
   "source": [
    "print('pinguim daryl')"
   ]
  },
  {
   "cell_type": "code",
   "execution_count": 33,
   "id": "376e7a9a",
   "metadata": {
    "scrolled": true
   },
   "outputs": [
    {
     "name": "stdout",
     "output_type": "stream",
     "text": [
      "pinguim daryl\n"
     ]
    }
   ],
   "source": [
    "texto = 'pinguim daryl'\n",
    "print(texto)"
   ]
  },
  {
   "cell_type": "code",
   "execution_count": 5,
   "id": "f14b9561",
   "metadata": {},
   "outputs": [
    {
     "data": {
      "text/plain": [
       "'cavalo'"
      ]
     },
     "execution_count": 5,
     "metadata": {},
     "output_type": "execute_result"
    }
   ],
   "source": [
    "'cavalo'"
   ]
  },
  {
   "cell_type": "code",
   "execution_count": 11,
   "id": "ad46dc82",
   "metadata": {},
   "outputs": [
    {
     "data": {
      "text/plain": [
       "19"
      ]
     },
     "execution_count": 11,
     "metadata": {},
     "output_type": "execute_result"
    }
   ],
   "source": [
    "len(\"batatas astrounatas\")"
   ]
  },
  {
   "cell_type": "code",
   "execution_count": 12,
   "id": "eea2c052",
   "metadata": {},
   "outputs": [
    {
     "data": {
      "text/plain": [
       "5"
      ]
     },
     "execution_count": 12,
     "metadata": {},
     "output_type": "execute_result"
    }
   ],
   "source": [
    "len(texto)"
   ]
  },
  {
   "cell_type": "code",
   "execution_count": 13,
   "id": "83638c52",
   "metadata": {},
   "outputs": [
    {
     "data": {
      "text/plain": [
       "5"
      ]
     },
     "execution_count": 13,
     "metadata": {},
     "output_type": "execute_result"
    }
   ],
   "source": [
    "len(texto)"
   ]
  },
  {
   "cell_type": "code",
   "execution_count": 17,
   "id": "c4f9299e",
   "metadata": {},
   "outputs": [
    {
     "name": "stdout",
     "output_type": "stream",
     "text": [
      "y\n"
     ]
    }
   ],
   "source": [
    "print(texto[3])"
   ]
  },
  {
   "cell_type": "code",
   "execution_count": 19,
   "id": "4e4bd3ec",
   "metadata": {},
   "outputs": [
    {
     "name": "stdout",
     "output_type": "stream",
     "text": [
      "dary\n"
     ]
    }
   ],
   "source": [
    "print(texto[0:4])"
   ]
  },
  {
   "cell_type": "code",
   "execution_count": 25,
   "id": "e2109768",
   "metadata": {},
   "outputs": [
    {
     "name": "stdout",
     "output_type": "stream",
     "text": [
      "daryl\n"
     ]
    }
   ],
   "source": [
    "print(texto[0:8])"
   ]
  },
  {
   "cell_type": "code",
   "execution_count": 35,
   "id": "7c330106",
   "metadata": {},
   "outputs": [
    {
     "name": "stdout",
     "output_type": "stream",
     "text": [
      "uim da\n"
     ]
    }
   ],
   "source": [
    "print(texto[4:10])"
   ]
  },
  {
   "cell_type": "code",
   "execution_count": 29,
   "id": "cb79e638",
   "metadata": {},
   "outputs": [
    {
     "data": {
      "text/plain": [
       "5"
      ]
     },
     "execution_count": 29,
     "metadata": {},
     "output_type": "execute_result"
    }
   ],
   "source": [
    "len(texto)"
   ]
  },
  {
   "cell_type": "code",
   "execution_count": 34,
   "id": "b5c3bf04",
   "metadata": {},
   "outputs": [
    {
     "data": {
      "text/plain": [
       "13"
      ]
     },
     "execution_count": 34,
     "metadata": {},
     "output_type": "execute_result"
    }
   ],
   "source": [
    "len(texto)"
   ]
  },
  {
   "cell_type": "code",
   "execution_count": 36,
   "id": "f626c55f",
   "metadata": {},
   "outputs": [
    {
     "name": "stdout",
     "output_type": "stream",
     "text": [
      "8\n"
     ]
    }
   ],
   "source": [
    "print(texto.find(\"d\"))"
   ]
  },
  {
   "cell_type": "code",
   "execution_count": 41,
   "id": "e4604e3d",
   "metadata": {},
   "outputs": [
    {
     "ename": "SyntaxError",
     "evalue": "EOL while scanning string literal (<ipython-input-41-8e7e581cadd9>, line 4)",
     "output_type": "error",
     "traceback": [
      "\u001b[1;36m  File \u001b[1;32m\"<ipython-input-41-8e7e581cadd9>\"\u001b[1;36m, line \u001b[1;32m4\u001b[0m\n\u001b[1;33m    print(\"Numero de @s:, email.count(\"@\"))\u001b[0m\n\u001b[1;37m                                           ^\u001b[0m\n\u001b[1;31mSyntaxError\u001b[0m\u001b[1;31m:\u001b[0m EOL while scanning string literal\n"
     ]
    }
   ],
   "source": [
    "email = \"batatinhasastronautas@gmail.com\"\n",
    "print(email.find(\"@\"))\n",
    "print(email.find(\".\"))\n",
    "print(\"Numero de @s:, email.count(\"@\"))\n",
    "print(\"Numero de .:, email.count (\".\"))"
   ]
  },
  {
   "cell_type": "code",
   "execution_count": 42,
   "id": "c91b48d4",
   "metadata": {},
   "outputs": [
    {
     "name": "stdout",
     "output_type": "stream",
     "text": [
      "Digite seus email: batatinhasastrounadasespalhadaspelochao@gmail.com\n",
      "Numero de @s no email:  1\n",
      "Numero de pontos no email:  1\n"
     ]
    }
   ],
   "source": [
    "email = input(\"Digite seus email: \")\n",
    "print(\"Numero de @s no email: \",email.count(\"@\"))\n",
    "print(\"Numero de pontos no email: \",email.count('.'))"
   ]
  },
  {
   "cell_type": "code",
   "execution_count": 2,
   "id": "8edd46d3",
   "metadata": {},
   "outputs": [
    {
     "name": "stdout",
     "output_type": "stream",
     "text": [
      "Digite sua frase: o macaco estava comendo banana em cima da arvore de uva\n",
      "Numero de vogais a :  11\n",
      "Numero de vogais e :  5\n",
      "Numero de vogais i :  1\n",
      "Numero de vogais o :  5\n",
      "Numero de vogais u :  1\n",
      "Numero de espaços :  10\n"
     ]
    }
   ],
   "source": [
    "frase = input ('Digite sua frase: ')\n",
    "print ('Numero de vogais a : ',frase.count('a'))\n",
    "print ('Numero de vogais e : ',frase.count('e'))\n",
    "print ('Numero de vogais i : ',frase.count('i'))\n",
    "print ('Numero de vogais o : ',frase.count('o'))\n",
    "print ('Numero de vogais u : ',frase.count('u'))\n",
    "print ('Numero de espaços : ',frase.count(' '))"
   ]
  },
  {
   "cell_type": "code",
   "execution_count": null,
   "id": "398b1293",
   "metadata": {},
   "outputs": [],
   "source": []
  }
 ],
 "metadata": {
  "kernelspec": {
   "display_name": "Python 3",
   "language": "python",
   "name": "python3"
  },
  "language_info": {
   "codemirror_mode": {
    "name": "ipython",
    "version": 3
   },
   "file_extension": ".py",
   "mimetype": "text/x-python",
   "name": "python",
   "nbconvert_exporter": "python",
   "pygments_lexer": "ipython3",
   "version": "3.8.8"
  }
 },
 "nbformat": 4,
 "nbformat_minor": 5
}
