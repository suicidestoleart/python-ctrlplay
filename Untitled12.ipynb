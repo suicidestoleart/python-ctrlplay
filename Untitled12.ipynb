{
 "cells": [
  {
   "cell_type": "code",
   "execution_count": 7,
   "id": "5e9d960e",
   "metadata": {},
   "outputs": [],
   "source": [
    "def darBoasVindas(nome):\n",
    "    print(\"Boas Vindas,\",nome,\", seu bosta.\")"
   ]
  },
  {
   "cell_type": "code",
   "execution_count": 8,
   "id": "f3f47b4a",
   "metadata": {
    "scrolled": true
   },
   "outputs": [
    {
     "name": "stdout",
     "output_type": "stream",
     "text": [
      "Boas Vindas, pedro , seu bosta.\n"
     ]
    }
   ],
   "source": [
    "darBoasVindas(\"pedro\")"
   ]
  },
  {
   "cell_type": "code",
   "execution_count": 20,
   "id": "83c7b17b",
   "metadata": {},
   "outputs": [],
   "source": [
    "def filme_favorito(titulo):\n",
    "    print(\"Um dos meus filmes favoritos é \",titulo,\". \")"
   ]
  },
  {
   "cell_type": "code",
   "execution_count": 21,
   "id": "8e25945e",
   "metadata": {},
   "outputs": [
    {
     "name": "stdout",
     "output_type": "stream",
     "text": [
      "Um dos meus filmes favoritos é  velozes e furiosos . \n"
     ]
    }
   ],
   "source": [
    "filme_favorito(\"velozes e furiosos\")"
   ]
  },
  {
   "cell_type": "code",
   "execution_count": 29,
   "id": "126b94b1",
   "metadata": {},
   "outputs": [],
   "source": [
    "def calcularAreaTriangulo(base, altura):\n",
    "    area = (base * altura)/2\n",
    "    return area"
   ]
  },
  {
   "cell_type": "code",
   "execution_count": 30,
   "id": "7913f2a5",
   "metadata": {},
   "outputs": [],
   "source": [
    "def caucularAreaQuadrado(lado):\n",
    "    area = lado * lado\n",
    "    return area"
   ]
  },
  {
   "cell_type": "code",
   "execution_count": 31,
   "id": "f41c5339",
   "metadata": {},
   "outputs": [
    {
     "name": "stdout",
     "output_type": "stream",
     "text": [
      "25.0\n"
     ]
    }
   ],
   "source": [
    "area = calcularAreaTriangulo(5,10)\n",
    "print(area)"
   ]
  },
  {
   "cell_type": "code",
   "execution_count": 32,
   "id": "cf77c8af",
   "metadata": {},
   "outputs": [
    {
     "name": "stdout",
     "output_type": "stream",
     "text": [
      "225\n"
     ]
    }
   ],
   "source": [
    "area = caucularAreaQuadrado(15)\n",
    "print(area)"
   ]
  },
  {
   "cell_type": "code",
   "execution_count": 35,
   "id": "e3ad5e20",
   "metadata": {},
   "outputs": [],
   "source": [
    "def calcularAreaTrapezio(B, b, h):\n",
    "    area = (B+b) * h /2\n",
    "    return area"
   ]
  },
  {
   "cell_type": "code",
   "execution_count": 36,
   "id": "600e837e",
   "metadata": {},
   "outputs": [
    {
     "name": "stdout",
     "output_type": "stream",
     "text": [
      "225\n"
     ]
    }
   ],
   "source": [
    "calcularAreaTrapezio(4, 4, 3)\n",
    "print(area)\n"
   ]
  },
  {
   "cell_type": "code",
   "execution_count": 48,
   "id": "f55b0399",
   "metadata": {},
   "outputs": [],
   "source": [
    "import math\n",
    "def caLcularAreaCirculo(r):\n",
    "    area = math.pi * r**2 \n",
    "    return area"
   ]
  },
  {
   "cell_type": "code",
   "execution_count": 49,
   "id": "04f35942",
   "metadata": {},
   "outputs": [
    {
     "name": "stdout",
     "output_type": "stream",
     "text": [
      "225\n"
     ]
    }
   ],
   "source": [
    "caLcularAreaCirculo(15)\n",
    "print(area)"
   ]
  },
  {
   "cell_type": "markdown",
   "id": "2032b668",
   "metadata": {},
   "source": []
  },
  {
   "cell_type": "code",
   "execution_count": 9,
   "id": "ad925baf",
   "metadata": {},
   "outputs": [],
   "source": [
    "def calcularVelocidade(distancia,tempo):\n",
    "    velocidade = distancia/tempo\n",
    "    return velocidade"
   ]
  },
  {
   "cell_type": "code",
   "execution_count": 10,
   "id": "221adb79",
   "metadata": {},
   "outputs": [
    {
     "name": "stdout",
     "output_type": "stream",
     "text": [
      "Insira a distancia da pessoa 1 10\n",
      "Insira o tempo da pessoa 1 5\n",
      "Insira a distancia da pessoa 2 10\n",
      "Insira o tempo da pessoa 2 5\n",
      "As duas pessoas tem a mesma velocidade\n"
     ]
    }
   ],
   "source": [
    "dpessoa1 = int(input(\"Insira a distancia da pessoa 1 \"))\n",
    "tpessoa1 = int(input(\"Insira o tempo da pessoa 1 \"))\n",
    "dpessoa2 = int(input(\"Insira a distancia da pessoa 2 \"))\n",
    "tpessoa2 = int(input(\"Insira o tempo da pessoa 2 \"))\n",
    "\n",
    "velocidade1 = calcularVelocidade(dpessoa1,tpessoa1)\n",
    "\n",
    "\n",
    "velocidade2 = calcularVelocidade(dpessoa2,tpessoa2)\n",
    "\n",
    "if velocidade1<velocidade2:\n",
    "    print(\"A pessoa 2 é mais rapida !!!\")\n",
    "\n",
    "elif velocidade1>velocidade2:\n",
    "    print(\"A pessoa 1 é mais rapida !!!\")\n",
    "else:\n",
    "    print(\"As duas pessoas tem a mesma velocidade\")"
   ]
  },
  {
   "cell_type": "code",
   "execution_count": null,
   "id": "66d78b1a",
   "metadata": {},
   "outputs": [],
   "source": []
  },
  {
   "cell_type": "code",
   "execution_count": null,
   "id": "ec0ea5cd",
   "metadata": {},
   "outputs": [],
   "source": []
  },
  {
   "cell_type": "code",
   "execution_count": null,
   "id": "73a13a2b",
   "metadata": {},
   "outputs": [],
   "source": []
  }
 ],
 "metadata": {
  "kernelspec": {
   "display_name": "Python 3",
   "language": "python",
   "name": "python3"
  },
  "language_info": {
   "codemirror_mode": {
    "name": "ipython",
    "version": 3
   },
   "file_extension": ".py",
   "mimetype": "text/x-python",
   "name": "python",
   "nbconvert_exporter": "python",
   "pygments_lexer": "ipython3",
   "version": "3.8.8"
  }
 },
 "nbformat": 4,
 "nbformat_minor": 5
}
