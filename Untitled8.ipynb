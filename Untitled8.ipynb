{
 "cells": [
  {
   "cell_type": "code",
   "execution_count": 8,
   "id": "6a57a443",
   "metadata": {},
   "outputs": [],
   "source": [
    "lista = [ 'seatlle', 'new york', 'dubai', 'são paulo']"
   ]
  },
  {
   "cell_type": "code",
   "execution_count": 9,
   "id": "154cb624",
   "metadata": {},
   "outputs": [
    {
     "data": {
      "text/plain": [
       "['seatlle', 'new york', 'dubai', 'são paulo']"
      ]
     },
     "execution_count": 9,
     "metadata": {},
     "output_type": "execute_result"
    }
   ],
   "source": [
    "lista"
   ]
  },
  {
   "cell_type": "code",
   "execution_count": 16,
   "id": "5821d86c",
   "metadata": {},
   "outputs": [
    {
     "data": {
      "text/plain": [
       "['dubai', 'new york', 'seatlle', 'são paulo']"
      ]
     },
     "execution_count": 16,
     "metadata": {},
     "output_type": "execute_result"
    }
   ],
   "source": [
    "sorted (lista)"
   ]
  },
  {
   "cell_type": "code",
   "execution_count": 22,
   "id": "dc298d7c",
   "metadata": {},
   "outputs": [],
   "source": [
    "lista.reverse()"
   ]
  },
  {
   "cell_type": "code",
   "execution_count": 23,
   "id": "32bb8f3c",
   "metadata": {},
   "outputs": [
    {
     "data": {
      "text/plain": [
       "['são paulo', 'dubai', 'new york', 'seatlle']"
      ]
     },
     "execution_count": 23,
     "metadata": {},
     "output_type": "execute_result"
    }
   ],
   "source": [
    "lista"
   ]
  },
  {
   "cell_type": "code",
   "execution_count": 25,
   "id": "a48ad221",
   "metadata": {},
   "outputs": [
    {
     "data": {
      "text/plain": [
       "4"
      ]
     },
     "execution_count": 25,
     "metadata": {},
     "output_type": "execute_result"
    }
   ],
   "source": [
    "len (lista)"
   ]
  },
  {
   "cell_type": "code",
   "execution_count": null,
   "id": "a77f4cb1",
   "metadata": {},
   "outputs": [],
   "source": []
  }
 ],
 "metadata": {
  "kernelspec": {
   "display_name": "Python 3",
   "language": "python",
   "name": "python3"
  },
  "language_info": {
   "codemirror_mode": {
    "name": "ipython",
    "version": 3
   },
   "file_extension": ".py",
   "mimetype": "text/x-python",
   "name": "python",
   "nbconvert_exporter": "python",
   "pygments_lexer": "ipython3",
   "version": "3.8.8"
  }
 },
 "nbformat": 4,
 "nbformat_minor": 5
}
