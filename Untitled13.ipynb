{
 "cells": [
  {
   "cell_type": "code",
   "execution_count": 48,
   "id": "22bd2be6",
   "metadata": {},
   "outputs": [
    {
     "name": "stderr",
     "output_type": "stream",
     "text": [
      "UsageError: %%writefile is a cell magic, but the cell body is empty.\n"
     ]
    }
   ],
   "source": [
    "%%writefile lista1.txt\n"
   ]
  },
  {
   "cell_type": "code",
   "execution_count": 51,
   "id": "98430472",
   "metadata": {},
   "outputs": [],
   "source": [
    "lista = [\"batata\", \"tomate\", \"casa\"]\n",
    "with open(\"lista1.txt\", \"a\") as lista1:\n",
    "    for item in lista:\n",
    "        lista1.write(item+\"\\n\")\n"
   ]
  },
  {
   "cell_type": "code",
   "execution_count": 52,
   "id": "ed9eaa3c",
   "metadata": {},
   "outputs": [
    {
     "name": "stdout",
     "output_type": "stream",
     "text": [
      "batata\n",
      "tomate\n",
      "casa\n",
      "\n"
     ]
    }
   ],
   "source": [
    "with open(\"lista1.txt\") as lista1:\n",
    "    print(lista1.read())"
   ]
  },
  {
   "cell_type": "markdown",
   "id": "946fcf07",
   "metadata": {},
   "source": [
    "###### "
   ]
  },
  {
   "cell_type": "code",
   "execution_count": null,
   "id": "005721f8",
   "metadata": {},
   "outputs": [],
   "source": []
  }
 ],
 "metadata": {
  "kernelspec": {
   "display_name": "Python 3",
   "language": "python",
   "name": "python3"
  },
  "language_info": {
   "codemirror_mode": {
    "name": "ipython",
    "version": 3
   },
   "file_extension": ".py",
   "mimetype": "text/x-python",
   "name": "python",
   "nbconvert_exporter": "python",
   "pygments_lexer": "ipython3",
   "version": "3.8.8"
  }
 },
 "nbformat": 4,
 "nbformat_minor": 5
}
