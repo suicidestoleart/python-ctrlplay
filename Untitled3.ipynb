{
 "cells": [
  {
   "cell_type": "code",
   "execution_count": 2,
   "id": "e67ad0c1",
   "metadata": {},
   "outputs": [
    {
     "data": {
      "text/plain": [
       "2030"
      ]
     },
     "execution_count": 2,
     "metadata": {},
     "output_type": "execute_result"
    }
   ],
   "source": [
    "19+5+2006"
   ]
  },
  {
   "cell_type": "code",
   "execution_count": 3,
   "id": "3027b299",
   "metadata": {},
   "outputs": [],
   "source": [
    "batata = \"Evelyn\" #texto -> string "
   ]
  },
  {
   "cell_type": "code",
   "execution_count": 4,
   "id": "68d3fdd5",
   "metadata": {},
   "outputs": [
    {
     "name": "stdout",
     "output_type": "stream",
     "text": [
      "Evelyn\n"
     ]
    }
   ],
   "source": [
    "print(batata)"
   ]
  },
  {
   "cell_type": "code",
   "execution_count": null,
   "id": "7d6b0b1d",
   "metadata": {},
   "outputs": [],
   "source": []
  }
 ],
 "metadata": {
  "kernelspec": {
   "display_name": "Python 3",
   "language": "python",
   "name": "python3"
  },
  "language_info": {
   "codemirror_mode": {
    "name": "ipython",
    "version": 3
   },
   "file_extension": ".py",
   "mimetype": "text/x-python",
   "name": "python",
   "nbconvert_exporter": "python",
   "pygments_lexer": "ipython3",
   "version": "3.8.8"
  }
 },
 "nbformat": 4,
 "nbformat_minor": 5
}
