{
 "cells": [
  {
   "cell_type": "code",
   "execution_count": 1,
   "id": "89dcc907",
   "metadata": {},
   "outputs": [
    {
     "name": "stdout",
     "output_type": "stream",
     "text": [
      "['__doc__', '__loader__', '__name__', '__package__', '__spec__', 'acos', 'acosh', 'asin', 'asinh', 'atan', 'atan2', 'atanh', 'ceil', 'comb', 'copysign', 'cos', 'cosh', 'degrees', 'dist', 'e', 'erf', 'erfc', 'exp', 'expm1', 'fabs', 'factorial', 'floor', 'fmod', 'frexp', 'fsum', 'gamma', 'gcd', 'hypot', 'inf', 'isclose', 'isfinite', 'isinf', 'isnan', 'isqrt', 'ldexp', 'lgamma', 'log', 'log10', 'log1p', 'log2', 'modf', 'nan', 'perm', 'pi', 'pow', 'prod', 'radians', 'remainder', 'sin', 'sinh', 'sqrt', 'tan', 'tanh', 'tau', 'trunc']\n"
     ]
    }
   ],
   "source": [
    "import math \n",
    "\n",
    "print(dir(math))"
   ]
  },
  {
   "cell_type": "code",
   "execution_count": null,
   "id": "36c8e808",
   "metadata": {},
   "outputs": [],
   "source": [
    "import math \n",
    "def imparpar(a,b)\n",
    "    return a/b"
   ]
  },
  {
   "cell_type": "code",
   "execution_count": 11,
   "id": "e8f6bbaa",
   "metadata": {},
   "outputs": [
    {
     "name": "stdout",
     "output_type": "stream",
     "text": [
      "Digite aqui um número pra saber se é par ou impar: 40028922\n",
      "Seu número é par\n"
     ]
    }
   ],
   "source": [
    "numero  =  int(input(\"Digite aqui um número pra saber se é par ou impar: \")) #coletar o numero\n",
    "resto  =  numero  %  2 #dividindo por 2 para saber se é par\n",
    "\n",
    "if resto == 0: #se o resto for 0 ele é par\n",
    "    print(\"Seu número é par\") \n",
    "else : #se nao for 0 ele é impar\n",
    "    print(\"Seu número é impar\")\n"
   ]
  },
  {
   "cell_type": "code",
   "execution_count": null,
   "id": "bd4708b1",
   "metadata": {},
   "outputs": [],
   "source": [
    "#Para saber se um número é par ou ímpar, basta dividir ele por 2. Se for par, o resto é sempre 0, não sobra nada. Já se for ímpar, vai sempre ter resto 1"
   ]
  }
 ],
 "metadata": {
  "kernelspec": {
   "display_name": "Python 3",
   "language": "python",
   "name": "python3"
  },
  "language_info": {
   "codemirror_mode": {
    "name": "ipython",
    "version": 3
   },
   "file_extension": ".py",
   "mimetype": "text/x-python",
   "name": "python",
   "nbconvert_exporter": "python",
   "pygments_lexer": "ipython3",
   "version": "3.8.8"
  }
 },
 "nbformat": 4,
 "nbformat_minor": 5
}
